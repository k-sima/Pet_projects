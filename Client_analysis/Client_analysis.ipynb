{
 "cells": [
  {
   "cell_type": "markdown",
   "id": "39ff8ec1",
   "metadata": {},
   "source": [
    "# Мини проект по анализу клиентов"
   ]
  },
  {
   "cell_type": "markdown",
   "id": "f344b535",
   "metadata": {},
   "source": [
    "## Описание данных\n",
    "**user_data:**\n",
    "\n",
    "client – идентификатор пользователя  \n",
    "premium – является ли клиент премиальным  \n",
    "age – возраст\n",
    "\n",
    "**logs:**\n",
    "\n",
    "client – идентификатор пользователя  \n",
    "success – результат (успех – 1, нет – 0)  \n",
    "platform – платформа  \n",
    "time – время в формате Unix"
   ]
  },
  {
   "cell_type": "markdown",
   "id": "638d520b",
   "metadata": {},
   "source": [
    "## Задачи\n",
    "1. Проверить размер таблицы, типы переменных, наличие пропущенных значений, описательную статистику.\n",
    "2. Определить какой клиент совершил больше всего успешных операций? \n",
    "3. С какой платформы осуществляется наибольшее количество успешных операций\n",
    "4. Какую платформу предпочитают премиальные клиенты?\n",
    "4. Визуализировать распределение возраста клиентов в зависимости от типа клиента (премиум или нет)\n",
    "5. Построить график распределения числа успешных операций.\n",
    "6. Визуализировать число успешных операций, сделанных на платформе computer, в зависимости от возраста. Определить клиенты какого возраста совершили наибольшее количество успешных действий?"
   ]
  },
  {
   "cell_type": "markdown",
   "id": "3fa8b0f8",
   "metadata": {},
   "source": [
    "## Задача 1\n",
    "Проверить размер таблицы, типы переменных, наличие пропущенных значений, описательную статистику."
   ]
  },
  {
   "cell_type": "code",
   "execution_count": 34,
   "id": "2078242f",
   "metadata": {},
   "outputs": [],
   "source": [
    "import pandas as pd\n",
    "import seaborn as sns"
   ]
  },
  {
   "cell_type": "code",
   "execution_count": 33,
   "id": "78368112",
   "metadata": {},
   "outputs": [],
   "source": [
    "df_user_data = pd.read_csv(\"user_data.csv\")\n",
    "df_logs = pd.read_csv(\"logs.csv\")"
   ]
  },
  {
   "cell_type": "code",
   "execution_count": 12,
   "id": "1d2b753e",
   "metadata": {},
   "outputs": [
    {
     "name": "stdout",
     "output_type": "stream",
     "text": [
      "<class 'pandas.core.frame.DataFrame'>\n",
      "RangeIndex: 2954 entries, 0 to 2953\n",
      "Data columns (total 3 columns):\n",
      " #   Column   Non-Null Count  Dtype\n",
      "---  ------   --------------  -----\n",
      " 0   client   2954 non-null   int64\n",
      " 1   premium  2954 non-null   bool \n",
      " 2   age      2954 non-null   int64\n",
      "dtypes: bool(1), int64(2)\n",
      "memory usage: 49.2 KB\n"
     ]
    }
   ],
   "source": [
    "df_user_data.info() # Смотрим пропуски и инфу"
   ]
  },
  {
   "cell_type": "code",
   "execution_count": 14,
   "id": "ac2b29a4",
   "metadata": {},
   "outputs": [
    {
     "data": {
      "text/html": [
       "<div>\n",
       "<style scoped>\n",
       "    .dataframe tbody tr th:only-of-type {\n",
       "        vertical-align: middle;\n",
       "    }\n",
       "\n",
       "    .dataframe tbody tr th {\n",
       "        vertical-align: top;\n",
       "    }\n",
       "\n",
       "    .dataframe thead th {\n",
       "        text-align: right;\n",
       "    }\n",
       "</style>\n",
       "<table border=\"1\" class=\"dataframe\">\n",
       "  <thead>\n",
       "    <tr style=\"text-align: right;\">\n",
       "      <th></th>\n",
       "      <th>client</th>\n",
       "      <th>time</th>\n",
       "    </tr>\n",
       "  </thead>\n",
       "  <tbody>\n",
       "    <tr>\n",
       "      <th>count</th>\n",
       "      <td>4500.000000</td>\n",
       "      <td>4.500000e+03</td>\n",
       "    </tr>\n",
       "    <tr>\n",
       "      <th>mean</th>\n",
       "      <td>50998.758000</td>\n",
       "      <td>1.585440e+09</td>\n",
       "    </tr>\n",
       "    <tr>\n",
       "      <th>std</th>\n",
       "      <td>28374.472495</td>\n",
       "      <td>2.314866e+04</td>\n",
       "    </tr>\n",
       "    <tr>\n",
       "      <th>min</th>\n",
       "      <td>40.000000</td>\n",
       "      <td>1.585400e+09</td>\n",
       "    </tr>\n",
       "    <tr>\n",
       "      <th>25%</th>\n",
       "      <td>27056.500000</td>\n",
       "      <td>1.585420e+09</td>\n",
       "    </tr>\n",
       "    <tr>\n",
       "      <th>50%</th>\n",
       "      <td>52659.000000</td>\n",
       "      <td>1.585440e+09</td>\n",
       "    </tr>\n",
       "    <tr>\n",
       "      <th>75%</th>\n",
       "      <td>76001.250000</td>\n",
       "      <td>1.585461e+09</td>\n",
       "    </tr>\n",
       "    <tr>\n",
       "      <th>max</th>\n",
       "      <td>99993.000000</td>\n",
       "      <td>1.585480e+09</td>\n",
       "    </tr>\n",
       "  </tbody>\n",
       "</table>\n",
       "</div>"
      ],
      "text/plain": [
       "             client          time\n",
       "count   4500.000000  4.500000e+03\n",
       "mean   50998.758000  1.585440e+09\n",
       "std    28374.472495  2.314866e+04\n",
       "min       40.000000  1.585400e+09\n",
       "25%    27056.500000  1.585420e+09\n",
       "50%    52659.000000  1.585440e+09\n",
       "75%    76001.250000  1.585461e+09\n",
       "max    99993.000000  1.585480e+09"
      ]
     },
     "execution_count": 14,
     "metadata": {},
     "output_type": "execute_result"
    }
   ],
   "source": [
    "df_logs.describe() # Описательная стат"
   ]
  },
  {
   "cell_type": "markdown",
   "id": "83e1b64d",
   "metadata": {},
   "source": [
    "## Задача 2\n",
    "Определить какой клиент совершил больше всего успешных операций?"
   ]
  },
  {
   "cell_type": "code",
   "execution_count": 17,
   "id": "6604d771",
   "metadata": {},
   "outputs": [],
   "source": [
    "success_counts = df_logs.loc[df_logs.success == True].client.value_counts()"
   ]
  },
  {
   "cell_type": "code",
   "execution_count": 18,
   "id": "005d270d",
   "metadata": {},
   "outputs": [
    {
     "data": {
      "text/plain": [
       "client\n",
       "28719    41\n",
       "52870    41\n",
       "61468    41\n",
       "61473    41\n",
       "12179    41\n",
       "         ..\n",
       "70028     1\n",
       "37123     1\n",
       "73522     1\n",
       "38359     1\n",
       "40921     1\n",
       "Name: count, Length: 2845, dtype: int64"
      ]
     },
     "execution_count": 18,
     "metadata": {},
     "output_type": "execute_result"
    }
   ],
   "source": [
    "success_counts"
   ]
  },
  {
   "cell_type": "markdown",
   "id": "180329f0",
   "metadata": {},
   "source": [
    "Отфильтруем клиентов по максимальному числу успешных операций"
   ]
  },
  {
   "cell_type": "code",
   "execution_count": 22,
   "id": "6b64ebcf",
   "metadata": {},
   "outputs": [
    {
     "data": {
      "text/plain": [
       "9"
      ]
     },
     "execution_count": 22,
     "metadata": {},
     "output_type": "execute_result"
    }
   ],
   "source": [
    "max_success = success_counts.max() # максимальное число успешных операций\n",
    "max_success_users = success_counts.loc[success_counts == max_success]\n",
    "max_success_users.count() # количество клиентов с макс. success"
   ]
  },
  {
   "cell_type": "markdown",
   "id": "28836077",
   "metadata": {},
   "source": [
    "## Задача 3\n",
    "С какой платформы осуществляется наибольшее количество успешных операций?  "
   ]
  },
  {
   "cell_type": "code",
   "execution_count": 32,
   "id": "f7df2adb",
   "metadata": {},
   "outputs": [
    {
     "data": {
      "text/plain": [
       "platform\n",
       "phone       2019\n",
       "computer    1090\n",
       "tablet       180\n",
       "Name: count, dtype: int64"
      ]
     },
     "execution_count": 32,
     "metadata": {},
     "output_type": "execute_result"
    }
   ],
   "source": [
    "df_logs.loc[df_logs.success == True].platform.value_counts() \n",
    "# с телефона происходит большинство заказов"
   ]
  },
  {
   "cell_type": "markdown",
   "id": "1401081a",
   "metadata": {},
   "source": [
    "## Задача 4\n",
    "Какую платформу предпочитают премиальные клиенты?"
   ]
  },
  {
   "cell_type": "code",
   "execution_count": 30,
   "id": "22e17dcf",
   "metadata": {},
   "outputs": [],
   "source": [
    "premium_logs = df_logs.merge(df_user_data, on='client')"
   ]
  },
  {
   "cell_type": "code",
   "execution_count": 31,
   "id": "af90a5e0",
   "metadata": {},
   "outputs": [
    {
     "data": {
      "text/plain": [
       "platform\n",
       "phone       246\n",
       "computer    150\n",
       "tablet       24\n",
       "Name: count, dtype: int64"
      ]
     },
     "execution_count": 31,
     "metadata": {},
     "output_type": "execute_result"
    }
   ],
   "source": [
    "premium_logs.loc[premium_logs.premium == True].platform.value_counts()"
   ]
  },
  {
   "cell_type": "markdown",
   "id": "fd698f66",
   "metadata": {},
   "source": [
    "## Задача 5\n",
    "Визуализировать распределение возраста клиентов в зависимости от типа клиента (премиум или нет)."
   ]
  },
  {
   "cell_type": "code",
   "execution_count": 35,
   "id": "3768d63f",
   "metadata": {},
   "outputs": [
    {
     "name": "stderr",
     "output_type": "stream",
     "text": [
      "C:\\Users\\nsafo\\anaconda3\\Lib\\site-packages\\seaborn\\_oldcore.py:1119: FutureWarning: use_inf_as_na option is deprecated and will be removed in a future version. Convert inf values to NaN before operating instead.\n",
      "  with pd.option_context('mode.use_inf_as_na', True):\n"
     ]
    },
    {
     "data": {
      "text/plain": [
       "<seaborn.axisgrid.FacetGrid at 0x239d8d49a50>"
      ]
     },
     "execution_count": 35,
     "metadata": {},
     "output_type": "execute_result"
    },
    {
     "data": {
      "image/png": "[encoded data removed]",
      "text/plain": [
       "<Figure size 584.875x500 with 1 Axes>"
      ]
     },
     "metadata": {},
     "output_type": "display_data"
    }
   ],
   "source": [
    "sns.displot(data=premium_logs, x='age', hue='premium', kde=True, kind='hist',\n",
    "            stat='density', common_norm=False, bins=14)"
   ]
  },
  {
   "cell_type": "markdown",
   "id": "63c886ad",
   "metadata": {},
   "source": [
    "## Задача 6\n",
    "Построить график распределения числа успешных операций.  "
   ]
  },
  {
   "cell_type": "code",
   "execution_count": 38,
   "id": "6e3190fe",
   "metadata": {},
   "outputs": [],
   "source": [
    "success_counts = df_logs.loc[df_logs.success == True].client.value_counts()\n",
    "success_counts = success_counts.rename('successes')"
   ]
  },
  {
   "cell_type": "code",
   "execution_count": 39,
   "id": "2d782eac",
   "metadata": {},
   "outputs": [
    {
     "data": {
      "text/plain": [
       "client\n",
       "28719    41\n",
       "52870    41\n",
       "61468    41\n",
       "61473    41\n",
       "12179    41\n",
       "         ..\n",
       "70028     1\n",
       "37123     1\n",
       "73522     1\n",
       "38359     1\n",
       "40921     1\n",
       "Name: successes, Length: 2845, dtype: int64"
      ]
     },
     "execution_count": 39,
     "metadata": {},
     "output_type": "execute_result"
    }
   ],
   "source": [
    "success_counts"
   ]
  },
  {
   "cell_type": "code",
   "execution_count": 40,
   "id": "bf6de820",
   "metadata": {},
   "outputs": [
    {
     "data": {
      "text/plain": [
       "<Axes: xlabel='successes', ylabel='count'>"
      ]
     },
     "execution_count": 40,
     "metadata": {},
     "output_type": "execute_result"
    },
    {
     "data": {
      "image/png": "[encoded data removed]",
      "text/plain": [
       "<Figure size 640x480 with 1 Axes>"
      ]
     },
     "metadata": {},
     "output_type": "display_data"
    }
   ],
   "source": [
    "sns.countplot(x = success_counts)"
   ]
  },
  {
   "cell_type": "markdown",
   "id": "5ee1a8b9",
   "metadata": {},
   "source": [
    "## Задача 7\n",
    "Визуализировать число успешных операций, сделанных на платформе computer, в зависимости от возраста.  \n",
    "Определить клиенты какого возраста совершили наибольшее количество успешных действий?"
   ]
  },
  {
   "cell_type": "code",
   "execution_count": 43,
   "id": "8cdb6698",
   "metadata": {},
   "outputs": [],
   "source": [
    "import matplotlib.pyplot as plt"
   ]
  },
  {
   "cell_type": "code",
   "execution_count": 47,
   "id": "2d5dd7aa",
   "metadata": {},
   "outputs": [
    {
     "data": {
      "text/plain": [
       "<Axes: xlabel='age', ylabel='count'>"
      ]
     },
     "execution_count": 47,
     "metadata": {},
     "output_type": "execute_result"
    },
    {
     "data": {
      "image/png": "[encoded data removed]",
      "text/plain": [
       "<Figure size 1200x800 with 1 Axes>"
      ]
     },
     "metadata": {},
     "output_type": "display_data"
    }
   ],
   "source": [
    "plt.figure(figsize=(12, 8))\n",
    "sns.countplot(data=premium_logs.loc[(premium_logs.platform == 'computer')\n",
    "                                    & (premium_logs.success == True)],\n",
    "              x = 'age')"
   ]
  },
  {
   "cell_type": "markdown",
   "id": "54ca21ca",
   "metadata": {},
   "source": [
    "Клиенты 28 лет совершили наибольшее количество успешных действий."
   ]
  }
 ],
 "metadata": {
  "kernelspec": {
   "display_name": "Python 3 (ipykernel)",
   "language": "python",
   "name": "python3"
  },
  "language_info": {
   "codemirror_mode": {
    "name": "ipython",
    "version": 3
   },
   "file_extension": ".py",
   "mimetype": "text/x-python",
   "name": "python",
   "nbconvert_exporter": "python",
   "pygments_lexer": "ipython3",
   "version": "3.11.7"
  }
 },
 "nbformat": 4,
 "nbformat_minor": 5
}
